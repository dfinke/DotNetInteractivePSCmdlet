{
 "metadata": {
  "kernelspec": {
   "display_name": ".NET (PowerShell)",
   "language": "PowerShell",
   "name": ".net-pwsh"
  },
  "language_info": {
   "name": "PowerShell"
  }
 },
 "cells": [
  {
   "cell_type": "code",
   "execution_count": null,
   "source": [
    "1..3"
   ],
   "outputs": [
    {
     "output_type": "stream",
     "name": "stdout",
     "text": [
      "1\r\n",
      "2\r\n",
      "3\r\n"
     ]
    }
   ],
   "metadata": {
    "dotnet_interactive": {
     "language": "pwsh"
    }
   }
  },
  {
   "cell_type": "code",
   "execution_count": null,
   "source": [
    "$PSVersionTable"
   ],
   "outputs": [
    {
     "output_type": "stream",
     "name": "stdout",
     "text": [
      "\r\n",
      "Name                           Value\r\n",
      "----                           -----\r\n",
      "PSVersion                      7.1.3\r\n",
      "PSEdition                      Core\r\n",
      "GitCommitId                    7.1.3\r\n",
      "OS                             Microsoft Windows 10.0.19043\r\n",
      "Platform                       Win32NT\r\n",
      "PSCompatibleVersions           {1.0, 2.0, 3.0, 4.0…}\r\n",
      "PSRemotingProtocolVersion      2.3\r\n",
      "SerializationVersion           1.1.0.1\r\n",
      "WSManStackVersion              3.0\r\n",
      "\r\n"
     ]
    }
   ],
   "metadata": {
    "dotnet_interactive": {
     "language": "pwsh"
    }
   }
  }
 ],
 "nbformat": 4,
 "nbformat_minor": 2
}